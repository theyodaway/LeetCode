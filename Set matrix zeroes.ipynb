{
 "cells": [
  {
   "cell_type": "code",
   "execution_count": null,
   "id": "0ab1fd0a",
   "metadata": {},
   "outputs": [],
   "source": [
    "class Solution:\n",
    "    def setZeroes(self, matrix: List[List[int]]) -> None:\n",
    "        \"\"\"\n",
    "        Do not return anything, modify matrix in-place instead.\n",
    "        \"\"\"\n",
    "\n",
    "        row=len(matrix)\n",
    "        col=len(matrix[0])\n",
    "        x,y=1,1\n",
    "        for i in range(row):\n",
    "            if matrix[i][0]==0:\n",
    "                x=0\n",
    "        for i in range(col):\n",
    "            if matrix[0][i]==0:\n",
    "                y=0 \n",
    "        for i in range(1,row):\n",
    "            for j in range(1,col):\n",
    "                if matrix[i][j]==0:\n",
    "                    matrix[0][j]=0\n",
    "                    matrix[i][0]=0\n",
    "        for i in range(1,col):\n",
    "            if matrix[0][i]==0:\n",
    "                 for j in range(1,row):\n",
    "                    matrix[j][i]=0\n",
    "        for i in range(1,row):\n",
    "             if matrix[i][0]==0:\n",
    "                for j in range(1,col):\n",
    "                     matrix[i][j]=0\n",
    "        \n",
    "        if x==0:\n",
    "            for i in range(row):\n",
    "                matrix[i][0]=0\n",
    "\n",
    "        if y==0:\n",
    "            for i in range(col):\n",
    "                matrix[0][i]=0\n"
   ]
  }
 ],
 "metadata": {
  "kernelspec": {
   "display_name": "Python 3",
   "language": "python",
   "name": "python3"
  },
  "language_info": {
   "codemirror_mode": {
    "name": "ipython",
    "version": 3
   },
   "file_extension": ".py",
   "mimetype": "text/x-python",
   "name": "python",
   "nbconvert_exporter": "python",
   "pygments_lexer": "ipython3",
   "version": "3.8.8"
  }
 },
 "nbformat": 4,
 "nbformat_minor": 5
}
